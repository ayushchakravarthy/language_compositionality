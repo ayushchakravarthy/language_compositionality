{
 "cells": [
  {
   "cell_type": "code",
   "execution_count": null,
   "metadata": {},
   "outputs": [],
   "source": [
    "runs = 6\n",
    "train_accs = []\n",
    "test_accs = []\n",
    "dev_accs = []\n"
   ]
  },
  {
   "cell_type": "code",
   "execution_count": null,
   "metadata": {},
   "outputs": [],
   "source": [
    "import numpy as np\n",
    "import json\n",
    "import matplotlib.pyplot as plt\n",
    "for run in range(runs):\n",
    "        res_file = f'results/language_parser/train_defaults_jump{run}.json'\n",
    "\n",
    "        # with open(attn_file, 'rb') as f:\n",
    "        #     attn_maps = pickle.load(f)\n",
    "\n",
    "        with open(res_file, 'r') as f:\n",
    "            stats = json.load(f)\n",
    "\n",
    "        dev_accs.append(stats.get('dev_accs'))\n",
    "        train_accs.append(stats.get('train_accs'))\n",
    "        test_accs.append(stats.get('test_accs'))"
   ]
  },
  {
   "cell_type": "code",
   "execution_count": null,
   "metadata": {},
   "outputs": [],
   "source": [
    "\n",
    "train_accs = np.array(train_accs)\n",
    "test_accs = np.array(test_accs)\n",
    "dev_accs = np.array(dev_accs)"
   ]
  }
 ],
 "metadata": {
  "kernelspec": {
   "display_name": "Python 3",
   "language": "python",
   "name": "python3"
  }
 },
 "nbformat": 4,
 "nbformat_minor": 4
}
